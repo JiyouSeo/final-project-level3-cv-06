{
 "cells": [
  {
   "cell_type": "code",
   "execution_count": 4,
   "metadata": {},
   "outputs": [],
   "source": [
    "import os\n",
    "from pathlib import Path\n",
    "from tqdm import tqdm\n",
    "from PIL import Image\n",
    "import numpy as np\n",
    "import json\n",
    "from pandas import json_normalize\n",
    "import pandas\n",
    "from operator import add\n",
    "from functools import reduce\n",
    "import cv2\n",
    "\n",
    "def read_json(json_dir: str):\n",
    "    with open(json_dir) as json_file:\n",
    "        source_anns = json.load(json_file)\n",
    "\n",
    "    anno_info = json_normalize(source_anns['annotations'])\n",
    "    image_info = json_normalize(source_anns['images'])\n",
    "    return anno_info, image_info, source_anns\n",
    "\n",
    "def del_improper(imgdir, delete = True):\n",
    "    try:\n",
    "#        print(imgdir)\n",
    "        img = np.array(Image.open(imgdir))\n",
    "    except:\n",
    "        if delete:\n",
    "            os.remove(imgdir)\n",
    "            return 0\n",
    "\n",
    "    return img\n",
    "\n",
    "def create_new_json_wh(anno_info, image_info, origin, dirlist, target_size=(600,800)):\n",
    "    img_list = []\n",
    "    i =0 \n",
    "    image_new = image_info.drop(image_info.index[0:len(image_info)])\n",
    "    anno_new = anno_info.drop(anno_info.index[0:len(anno_info)])\n",
    "    for imgdir in tqdm(dirlist):\n",
    "        img = del_improper(imgdir)\n",
    "        if not isinstance(img, np.ndarray):\n",
    "            continue\n",
    "        imgname = imgdir.split('/')[-1]\n",
    "        if len(image_info.loc[image_info['file_name'] == imgname]) != 0:\n",
    "            imgid, w, h = image_info.loc[image_info['file_name'] == imgname, ['id','width','height']].values[0]\n",
    "\n",
    "            if target_size[0] >= h and target_size[1] >= w:\n",
    "                if len(image_info.loc[image_info['id'] == imgid]) != 0:\n",
    "                    image_tmp = image_info.loc[image_info['id'] == imgid]\n",
    "                    anno_tmp = anno_info.loc[anno_info['image_id'] == imgid]\n",
    "                    \n",
    "                    image_new = image_new.append(image_tmp)\n",
    "                    anno_new = anno_new.append(anno_tmp)\n",
    "                    \n",
    "        \n",
    "    # df to json\n",
    "    image_json = image_new.to_json(orient = 'table', index = False)    \n",
    "    anno_json = anno_new.to_json(orient = 'table', index = False)    \n",
    "    return image_json, anno_json"
   ]
  },
  {
   "cell_type": "code",
   "execution_count": 6,
   "metadata": {},
   "outputs": [
    {
     "ename": "FileNotFoundError",
     "evalue": "[Errno 2] No such file or directory: '/home/jiyouseo/Desktop/jupyter/final_project/eval/resampled_errordel_eval.json'",
     "output_type": "error",
     "traceback": [
      "\u001b[0;31m---------------------------------------------------------------------------\u001b[0m",
      "\u001b[0;31mFileNotFoundError\u001b[0m                         Traceback (most recent call last)",
      "\u001b[0;32m/tmp/ipykernel_29716/3414704821.py\u001b[0m in \u001b[0;36m<module>\u001b[0;34m\u001b[0m\n\u001b[1;32m      1\u001b[0m \u001b[0mrootdir\u001b[0m \u001b[0;34m=\u001b[0m \u001b[0;34m\"/home/jiyouseo/Desktop/jupyter/final_project/eval\"\u001b[0m\u001b[0;34m\u001b[0m\u001b[0;34m\u001b[0m\u001b[0m\n\u001b[1;32m      2\u001b[0m \u001b[0mdirlist\u001b[0m \u001b[0;34m=\u001b[0m \u001b[0mlist\u001b[0m\u001b[0;34m(\u001b[0m\u001b[0mmap\u001b[0m\u001b[0;34m(\u001b[0m\u001b[0mstr\u001b[0m\u001b[0;34m,\u001b[0m \u001b[0mlist\u001b[0m\u001b[0;34m(\u001b[0m\u001b[0mPath\u001b[0m\u001b[0;34m(\u001b[0m\u001b[0mrootdir\u001b[0m\u001b[0;34m)\u001b[0m\u001b[0;34m.\u001b[0m\u001b[0mrglob\u001b[0m\u001b[0;34m(\u001b[0m\u001b[0;34m'*png'\u001b[0m\u001b[0;34m)\u001b[0m\u001b[0;34m)\u001b[0m\u001b[0;34m)\u001b[0m\u001b[0;34m)\u001b[0m\u001b[0;34m\u001b[0m\u001b[0;34m\u001b[0m\u001b[0m\n\u001b[0;32m----> 3\u001b[0;31m \u001b[0manno_info\u001b[0m\u001b[0;34m,\u001b[0m \u001b[0mimage_info\u001b[0m\u001b[0;34m,\u001b[0m \u001b[0morigin\u001b[0m \u001b[0;34m=\u001b[0m \u001b[0mread_json\u001b[0m\u001b[0;34m(\u001b[0m\u001b[0mos\u001b[0m\u001b[0;34m.\u001b[0m\u001b[0mpath\u001b[0m\u001b[0;34m.\u001b[0m\u001b[0mjoin\u001b[0m\u001b[0;34m(\u001b[0m\u001b[0mrootdir\u001b[0m\u001b[0;34m,\u001b[0m \u001b[0;34m'resampled_errordel_eval.json'\u001b[0m\u001b[0;34m)\u001b[0m\u001b[0;34m)\u001b[0m\u001b[0;34m\u001b[0m\u001b[0;34m\u001b[0m\u001b[0m\n\u001b[0m",
      "\u001b[0;32m/tmp/ipykernel_29716/94396460.py\u001b[0m in \u001b[0;36mread_json\u001b[0;34m(json_dir)\u001b[0m\n\u001b[1;32m     12\u001b[0m \u001b[0;34m\u001b[0m\u001b[0m\n\u001b[1;32m     13\u001b[0m \u001b[0;32mdef\u001b[0m \u001b[0mread_json\u001b[0m\u001b[0;34m(\u001b[0m\u001b[0mjson_dir\u001b[0m\u001b[0;34m:\u001b[0m \u001b[0mstr\u001b[0m\u001b[0;34m)\u001b[0m\u001b[0;34m:\u001b[0m\u001b[0;34m\u001b[0m\u001b[0;34m\u001b[0m\u001b[0m\n\u001b[0;32m---> 14\u001b[0;31m     \u001b[0;32mwith\u001b[0m \u001b[0mopen\u001b[0m\u001b[0;34m(\u001b[0m\u001b[0mjson_dir\u001b[0m\u001b[0;34m)\u001b[0m \u001b[0;32mas\u001b[0m \u001b[0mjson_file\u001b[0m\u001b[0;34m:\u001b[0m\u001b[0;34m\u001b[0m\u001b[0;34m\u001b[0m\u001b[0m\n\u001b[0m\u001b[1;32m     15\u001b[0m         \u001b[0msource_anns\u001b[0m \u001b[0;34m=\u001b[0m \u001b[0mjson\u001b[0m\u001b[0;34m.\u001b[0m\u001b[0mload\u001b[0m\u001b[0;34m(\u001b[0m\u001b[0mjson_file\u001b[0m\u001b[0;34m)\u001b[0m\u001b[0;34m\u001b[0m\u001b[0;34m\u001b[0m\u001b[0m\n\u001b[1;32m     16\u001b[0m \u001b[0;34m\u001b[0m\u001b[0m\n",
      "\u001b[0;31mFileNotFoundError\u001b[0m: [Errno 2] No such file or directory: '/home/jiyouseo/Desktop/jupyter/final_project/eval/resampled_errordel_eval.json'"
     ]
    }
   ],
   "source": [
    "rootdir = \"/opt/ml/finalproject/data/eval\"\n",
    "dirlist = list(map(str, list(Path(rootdir).rglob('*png'))))\n",
    "anno_info, image_info, origin = read_json(os.path.join(rootdir, 'resampled_errordel_eval.json'))"
   ]
  },
  {
   "cell_type": "code",
   "execution_count": null,
   "metadata": {},
   "outputs": [],
   "source": []
  }
 ],
 "metadata": {
  "interpreter": {
   "hash": "e31c68abf1d5dd3f9e2269f23eadf1b199587e56c0618a30760176a65ebfcab4"
  },
  "kernelspec": {
   "display_name": "Python 3.7.11 64-bit ('lightweight': conda)",
   "language": "python",
   "name": "python3"
  },
  "language_info": {
   "codemirror_mode": {
    "name": "ipython",
    "version": 3
   },
   "file_extension": ".py",
   "mimetype": "text/x-python",
   "name": "python",
   "nbconvert_exporter": "python",
   "pygments_lexer": "ipython3",
   "version": "3.7.11"
  },
  "orig_nbformat": 4
 },
 "nbformat": 4,
 "nbformat_minor": 2
}
