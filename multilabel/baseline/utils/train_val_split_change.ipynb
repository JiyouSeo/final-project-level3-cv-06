{
 "cells": [
  {
   "cell_type": "code",
   "execution_count": 167,
   "metadata": {},
   "outputs": [],
   "source": [
    "# from sklearn.model_selection import StratifiedShuffleSplit\n",
    "from iterstrat.ml_stratifiers import MultilabelStratifiedKFold\n",
    "\n",
    "import json\n",
    "import os\n",
    "import pandas as pd\n",
    "import matplotlib.pyplot as plt\n",
    "from PIL import Image\n",
    "\n",
    "from pycocotools.coco import COCO"
   ]
  },
  {
   "cell_type": "code",
   "execution_count": 168,
   "metadata": {},
   "outputs": [
    {
     "name": "stdout",
     "output_type": "stream",
     "text": [
      "loading annotations into memory...\n",
      "Done (t=5.25s)\n",
      "creating index...\n",
      "index created!\n"
     ]
    }
   ],
   "source": [
    "data_type = 'train' \n",
    "\n",
    "src_root = '/opt/ml/finalproject/data/' + data_type\n",
    "src_file = os.path.join(src_root, 'full_train.json')\n",
    "\n",
    "coco_obj = COCO(src_file)"
   ]
  },
  {
   "cell_type": "code",
   "execution_count": 169,
   "metadata": {},
   "outputs": [],
   "source": [
    "# Reading the json file\n",
    "with open(src_file, 'r') as f:\n",
    "    root = json.load(f)"
   ]
  },
  {
   "cell_type": "code",
   "execution_count": 170,
   "metadata": {},
   "outputs": [
    {
     "name": "stdout",
     "output_type": "stream",
     "text": [
      "137415 137414\n"
     ]
    }
   ],
   "source": [
    "img_id = coco_obj.getImgIds()\n",
    "print(len(img_id), img_id[-1])"
   ]
  },
  {
   "cell_type": "code",
   "execution_count": 171,
   "metadata": {},
   "outputs": [],
   "source": [
    "import numpy as np\n",
    "li = [0]*38\n",
    "X = [i for i in range(len(img_id))]\n",
    "y = []\n",
    "img_id = coco_obj.getImgIds()\n",
    "for img in img_id:\n",
    "    ann_id = coco_obj.getAnnIds(imgIds=img)\n",
    "    one_hot = li.copy()\n",
    "    for ann in ann_id:\n",
    "        annotation = coco_obj.loadAnns(ann)\n",
    "        cat_id = annotation[0]['category_id']\n",
    "        one_hot[cat_id] = 1\n",
    "    y.append(one_hot)\n",
    "    \n",
    "X = np.array(X)\n",
    "y = np.array(y)"
   ]
  },
  {
   "cell_type": "code",
   "execution_count": 172,
   "metadata": {},
   "outputs": [],
   "source": [
    "mskf = MultilabelStratifiedKFold(n_splits=5, shuffle=True, random_state=0)"
   ]
  },
  {
   "cell_type": "code",
   "execution_count": 173,
   "metadata": {},
   "outputs": [
    {
     "name": "stdout",
     "output_type": "stream",
     "text": [
      "TRAIN: [     0      2      3 ... 137411 137412 137413] TEST: [     1      5     12 ... 137402 137406 137414]\n"
     ]
    }
   ],
   "source": [
    "for train_index, test_index in mskf.split(X, y):\n",
    "    print(\"TRAIN:\", train_index, \"TEST:\", test_index)\n",
    "    X_train, X_test = X[train_index], X[test_index]\n",
    "    y_train, y_test = y[train_index], y[test_index]\n",
    "    break"
   ]
  },
  {
   "cell_type": "code",
   "execution_count": 174,
   "metadata": {},
   "outputs": [
    {
     "name": "stdout",
     "output_type": "stream",
     "text": [
      "110130 27285\n",
      "110130 27285\n"
     ]
    }
   ],
   "source": [
    "print(len(X_train), len(X_test))\n",
    "print(len(y_train), len(y_test))"
   ]
  },
  {
   "cell_type": "code",
   "execution_count": 175,
   "metadata": {},
   "outputs": [],
   "source": [
    "train_img = []\n",
    "train_ann = []\n",
    "for idx, image_id in enumerate(X_train):\n",
    "    img_anno = coco_obj.loadImgs(int(image_id))\n",
    "    img_anno[0]['id'] = idx\n",
    "    train_img.append(img_anno[0])\n",
    "    ann_ids = coco_obj.getAnnIds(image_id)\n",
    "    for ann_id in ann_ids:\n",
    "        ann = coco_obj.loadAnns(ann_id)[0]\n",
    "        ann['image_id'] = idx\n",
    "        train_ann.append(ann)\n",
    "    \n",
    "test_img = []\n",
    "test_ann = []\n",
    "for idx, image_id in enumerate(X_test):\n",
    "    img_anno = coco_obj.loadImgs(int(image_id))\n",
    "    img_anno[0]['id'] = idx\n",
    "    test_img.append(img_anno[0])\n",
    "    ann_ids = coco_obj.getAnnIds(image_id)\n",
    "    for ann_id in ann_ids:\n",
    "        ann = coco_obj.loadAnns(ann_id)[0]\n",
    "        ann['image_id'] = idx\n",
    "        test_ann.append(ann)"
   ]
  },
  {
   "cell_type": "code",
   "execution_count": 176,
   "metadata": {},
   "outputs": [],
   "source": [
    "train_json = root.copy()\n",
    "test_json = root.copy()\n",
    "\n",
    "train_json['images'] = train_img\n",
    "train_json['annotations'] = train_ann\n",
    "test_json['images'] = test_img\n",
    "test_json['annotations'] = test_ann"
   ]
  },
  {
   "cell_type": "code",
   "execution_count": 177,
   "metadata": {},
   "outputs": [],
   "source": [
    "with open(\"train.json\", \"w\") as f:\n",
    "    json.dump(train_json, f)\n",
    "    \n",
    "with open(\"test.json\", \"w\") as f:\n",
    "    json.dump(test_json, f)"
   ]
  },
  {
   "cell_type": "markdown",
   "metadata": {},
   "source": [
    "# 데이터 시각화"
   ]
  },
  {
   "cell_type": "code",
   "execution_count": 193,
   "metadata": {},
   "outputs": [
    {
     "name": "stdout",
     "output_type": "stream",
     "text": [
      "loading annotations into memory...\n",
      "Done (t=0.34s)\n",
      "creating index...\n",
      "index created!\n"
     ]
    }
   ],
   "source": [
    "# Reading the json file\n",
    "src_file = \"test.json\"\n",
    "coco_obj = COCO(src_file)\n",
    "with open(src_file, 'r') as f:\n",
    "    root = json.load(f)"
   ]
  },
  {
   "cell_type": "code",
   "execution_count": 194,
   "metadata": {},
   "outputs": [
    {
     "name": "stdout",
     "output_type": "stream",
     "text": [
      "Dataset Name:  new_eval\n",
      "Number of images:  27285\n",
      "Number of bounding boxes:  75151\n",
      "Number of classes:  38\n",
      "Max min avg height:  647 48 432\n",
      "Max min avg width:  1426 66 573\n"
     ]
    }
   ],
   "source": [
    "# Basic High Level Information\n",
    "\n",
    "n_images = len(root['images'])\n",
    "n_boxes = len(root['annotations'])\n",
    "n_categ = len(root['categories'])\n",
    "\n",
    "# height, width\n",
    "heights = [x['height'] for x in root['images']]\n",
    "widths = [x['width'] for x in root['images']]\n",
    "\n",
    "print('Dataset Name: ',\"new_eval\")\n",
    "print('Number of images: ',n_images)\n",
    "print('Number of bounding boxes: ', n_boxes)\n",
    "print('Number of classes: ', n_categ)\n",
    "print('Max min avg height: ', max(heights), min(heights), int(sum(heights)/len(heights)))\n",
    "print('Max min avg width: ', max(widths), min(widths), int(sum(widths)/len(widths)))"
   ]
  },
  {
   "cell_type": "code",
   "execution_count": 195,
   "metadata": {},
   "outputs": [
    {
     "name": "stdout",
     "output_type": "stream",
     "text": [
      "    id                           name  count\n",
      "9   15                        Lighter   6465\n",
      "6   28           SupplymentaryBattery   6353\n",
      "22  24                     SmartPhone   6177\n",
      "4   13                          Knife   5927\n",
      "2   22                       Scissors   4314\n",
      "15  21                            Saw   3371\n",
      "7    8                            Gun   2846\n",
      "10  34                         Chisel   2842\n",
      "5   26                        Spanner   2842\n",
      "23  31                            USB   2655\n",
      "21  12                            HDD   2509\n",
      "27   7                    Firecracker   2325\n",
      "26   9                       GunParts   2286\n",
      "1    3                            Axe   2260\n",
      "16  10                         Hammer   2168\n",
      "11  23                    Screwdriver   2102\n",
      "3   33                          Plier   1837\n",
      "24   2                            Awl   1569\n",
      "19  18                      MetalPipe   1422\n",
      "33  16                         Liquid   1419\n",
      "32   6                         Bullet   1363\n",
      "25  19                   NailClippers   1125\n",
      "8   11                      HandCuffs    942\n",
      "14  20                     PrtableGas    812\n",
      "28   0                        Aerosol    794\n",
      "35  14                         Laptop    667\n",
      "12  37                 Throwing Knife    608\n",
      "30  35          Electronic cigarettes    578\n",
      "37  27                            SSD    576\n",
      "34   4                            Bat    573\n",
      "20  25                      SolidFuel    569\n",
      "31  36  Electronic cigarettes(Liquid)    569\n",
      "17  17                          Match    557\n",
      "29   5                        Battery    505\n",
      "36  29                       TabletPC    354\n",
      "0   32                       ZippoOil    303\n",
      "18  30                        Thinner    286\n",
      "13   1                        Alcohol    281\n",
      "38\n"
     ]
    },
    {
     "data": {
      "image/png": "[encoded data removed]",
      "text/plain": [
       "<Figure size 1080x360 with 1 Axes>"
      ]
     },
     "metadata": {
      "needs_background": "light"
     },
     "output_type": "display_data"
    },
    {
     "name": "stdout",
     "output_type": "stream",
     "text": [
      "75151\n"
     ]
    }
   ],
   "source": [
    "# Class distribution\n",
    "cat = {x['id']: x['name'] for x in root['categories']}\n",
    "# print(list(cat.values())[30:])\n",
    "df = pd.DataFrame(list(cat.items()), columns=['id', 'name']) #.set_index('id')\n",
    "\n",
    "count = []\n",
    "for i in coco_obj.getCatIds():\n",
    "    count.append(len(coco_obj.getAnnIds(catIds=i)))\n",
    "df['count'] = count\n",
    "\n",
    "df = df.sort_values(by='count', ascending=False)\n",
    "print(df)\n",
    "\n",
    "print(len(df['name']))\n",
    "\n",
    "# # to plot\n",
    "y = list(df['count'])\n",
    "x = list(df.index)\n",
    "\n",
    "plt.figure(figsize=(15,5))\n",
    "plt.bar(np.arange(len(y)),y, width=0.5,tick_label=x,color='orange')\n",
    "plt.xlim(-0.5,len(y))\n",
    "plt.xlabel('Category Id')\n",
    "plt.ylabel('Number of boxes')\n",
    "plt.title('Class distribution (decreasing order)')\n",
    "plt.show()\n",
    "\n",
    "print(df[\"count\"].sum())"
   ]
  },
  {
   "cell_type": "code",
   "execution_count": 196,
   "metadata": {},
   "outputs": [
    {
     "name": "stdout",
     "output_type": "stream",
     "text": [
      "no obejct image number:  0\n",
      "{5: 5019, 6: 758, 4: 4514, 3: 1067, 2: 7801, 1: 8039, 7: 86, 8: 1}\n"
     ]
    },
    {
     "data": {
      "image/png": "[encoded data removed]",
      "text/plain": [
       "<Figure size 720x360 with 1 Axes>"
      ]
     },
     "metadata": {
      "needs_background": "light"
     },
     "output_type": "display_data"
    },
    {
     "name": "stdout",
     "output_type": "stream",
     "text": [
      "Number of images having atleast one box:  8\n",
      "Min number of boxes per image:  1\n",
      "Max number of boxes per image:  8039\n",
      "Avg number of boxes per image:  3410\n"
     ]
    }
   ],
   "source": [
    "# Objects per image distribution\n",
    "\n",
    "img2nboxes = {} # mapping \"image id\" to \"number of boxes\"\n",
    "\n",
    "no_object_list = []\n",
    "for i in root['images']:\n",
    "    a = coco_obj.getAnnIds(imgIds=i['id'])\n",
    "    img2nboxes.setdefault(len(a), 0)\n",
    "    img2nboxes[len(a)] += 1\n",
    "\n",
    "    if len(a) == 0:\n",
    "        file_path = i[\"path\"]\n",
    "        file_name = i[\"file_name\"]\n",
    "        file_path = file_path.split('/')\n",
    "        del file_path[2]\n",
    "        file_path = '/'.join(file_path)\n",
    "\n",
    "        path = os.path.join(file_path[1:], file_name)\n",
    "        \n",
    "        no_object_list.append(path)\n",
    "\n",
    "print('no obejct image number: ',len(no_object_list))\n",
    "# print(no_object_list)\n",
    "\n",
    "if len(no_object_list)>10:\n",
    "    no_object_list = no_object_list[:10]\n",
    "\n",
    "# 객체 없는 이미지 출력        \n",
    "if no_object_list:\n",
    "    n_rows = 1\n",
    "    n_cols = len(no_object_list)\n",
    "    fig = plt.figure(figsize=(20,10))\n",
    "    for i, img_path in enumerate(no_object_list):\n",
    "        image = Image.open(os.path.join('/opt/ml/finalproject/data/train',img_path))\n",
    "        ax = fig.add_subplot(1,len(no_object_list), i+1)\n",
    "        # ax.set_title(img_path, fontsize = 10)\n",
    "        plt.axis('off')\n",
    "        plt.imshow(image)\n",
    "    # plt.tight_layout()\n",
    "    plt.show()\n",
    "\n",
    "# print(img2nboxes)\n",
    "\n",
    "nboxes_list = list(img2nboxes.values())\n",
    "\n",
    "min_nboxes = min(nboxes_list)\n",
    "max_nboxes = max(nboxes_list)\n",
    "avg_nboxes = int(sum(nboxes_list)/len(nboxes_list))\n",
    "\n",
    "print(img2nboxes)\n",
    "\n",
    "plt.figure(figsize=(10,5))\n",
    "plt.bar(list(img2nboxes.keys()), list(img2nboxes.values()), tick_label=[str(i) for i in img2nboxes.keys()], width=0.5)\n",
    "plt.xlabel('Number of objects')\n",
    "plt.ylabel('Number of images')\n",
    "plt.title('Number of objects distribution over the dataset')\n",
    "plt.show() \n",
    "\n",
    "print(\"Number of images having atleast one box: \", len(nboxes_list))\n",
    "print(\"Min number of boxes per image: \", min_nboxes)\n",
    "print(\"Max number of boxes per image: \", max_nboxes)\n",
    "print(\"Avg number of boxes per image: \", avg_nboxes)"
   ]
  },
  {
   "cell_type": "code",
   "execution_count": 197,
   "metadata": {},
   "outputs": [],
   "source": [
    "img_id = coco_obj.getImgIds()\n",
    "\n",
    "multi_origin = []\n",
    "multi_other = []\n",
    "single_origin = []\n",
    "single_other = []\n",
    "\n",
    "img_num = len(img_id)\n",
    "\n",
    "for i in img_id:\n",
    "    path = root['images'][i-1]['path']\n",
    "    a = path.split('/')\n",
    "    # a = path.split(\"\\\\\")\n",
    "    # print(a)\n",
    "    # category = a[2]\n",
    "    # sub_cat = a[3]\n",
    "    category = a[3]\n",
    "    sub_cat = a[4]\n",
    "    # print(category, sub_cat)\n",
    "    \n",
    "    if sub_cat == 'Multiple_Categories':\n",
    "        multi_origin.append(category)\n",
    "    elif sub_cat == \"Multiple_Other\":\n",
    "        multi_other.append(category)\n",
    "    elif sub_cat == \"Single_Default\":\n",
    "        single_origin.append(category)\n",
    "    else:\n",
    "        single_other.append(category)\n",
    "    "
   ]
  },
  {
   "cell_type": "code",
   "execution_count": 198,
   "metadata": {},
   "outputs": [
    {
     "name": "stdout",
     "output_type": "stream",
     "text": [
      "0.4069268829026938\n",
      "0.2986256184716877\n",
      "0.14700384826827928\n",
      "0.1474436503573392\n",
      "75151\n"
     ]
    }
   ],
   "source": [
    "li = [multi_origin, multi_other, single_origin, single_other]\n",
    "for d in li:\n",
    "    # print(len(d))\n",
    "    print(len(d)/img_num)\n",
    "    \n",
    "print(df[\"count\"].sum())"
   ]
  },
  {
   "cell_type": "code",
   "execution_count": null,
   "metadata": {},
   "outputs": [],
   "source": []
  }
 ],
 "metadata": {
  "interpreter": {
   "hash": "e31c68abf1d5dd3f9e2269f23eadf1b199587e56c0618a30760176a65ebfcab4"
  },
  "kernelspec": {
   "display_name": "Python 3 (ipykernel)",
   "language": "python",
   "name": "python3"
  },
  "language_info": {
   "codemirror_mode": {
    "name": "ipython",
    "version": 3
   },
   "file_extension": ".py",
   "mimetype": "text/x-python",
   "name": "python",
   "nbconvert_exporter": "python",
   "pygments_lexer": "ipython3",
   "version": "3.7.11"
  }
 },
 "nbformat": 4,
 "nbformat_minor": 4
}
