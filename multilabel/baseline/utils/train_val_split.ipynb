{
 "cells": [
  {
   "cell_type": "code",
   "execution_count": 1,
   "metadata": {},
   "outputs": [],
   "source": [
    "# from sklearn.model_selection import StratifiedShuffleSplit\n",
    "from iterstrat.ml_stratifiers import MultilabelStratifiedKFold\n",
    "\n",
    "import json\n",
    "from pycocotools.coco import COCO"
   ]
  },
  {
   "cell_type": "code",
   "execution_count": 2,
   "metadata": {},
   "outputs": [
    {
     "name": "stdout",
     "output_type": "stream",
     "text": [
      "loading annotations into memory...\n",
      "Done (t=0.79s)\n",
      "creating index...\n",
      "index created!\n"
     ]
    }
   ],
   "source": [
    "data_type = 'eval' \n",
    "\n",
    "src_root = '/opt/ml/finalproject/data/' + data_type\n",
    "src_file = src_root + '/resampled_errordel_'+ data_type +'.json'\n",
    "\n",
    "coco_obj = COCO(src_file)"
   ]
  },
  {
   "cell_type": "code",
   "execution_count": 3,
   "metadata": {},
   "outputs": [],
   "source": [
    "# Reading the json file\n",
    "with open(src_file, 'r') as f:\n",
    "    root = json.load(f)"
   ]
  },
  {
   "cell_type": "code",
   "execution_count": 4,
   "metadata": {},
   "outputs": [
    {
     "name": "stdout",
     "output_type": "stream",
     "text": [
      "29759 29758\n"
     ]
    }
   ],
   "source": [
    "img_id = coco_obj.getImgIds()\n",
    "print(len(img_id), img_id[-1])"
   ]
  },
  {
   "cell_type": "code",
   "execution_count": 5,
   "metadata": {},
   "outputs": [],
   "source": [
    "import numpy as np\n",
    "li = [0]*38\n",
    "X = [i for i in range(len(img_id))]\n",
    "y = []\n",
    "img_id = coco_obj.getImgIds()\n",
    "for img in img_id:\n",
    "    ann_id = coco_obj.getAnnIds(imgIds=img)\n",
    "    one_hot = li.copy()\n",
    "    for ann in ann_id:\n",
    "        annotation = coco_obj.loadAnns(ann)\n",
    "        cat_id = annotation[0]['category_id']\n",
    "        one_hot = li.copy()\n",
    "        one_hot[cat_id] = 1\n",
    "    y.append(one_hot)\n",
    "    \n",
    "X = np.array(X)\n",
    "y = np.array(y)"
   ]
  },
  {
   "cell_type": "code",
   "execution_count": 6,
   "metadata": {},
   "outputs": [],
   "source": [
    "mskf = MultilabelStratifiedKFold(n_splits=5, shuffle=True, random_state=0)"
   ]
  },
  {
   "cell_type": "code",
   "execution_count": 7,
   "metadata": {},
   "outputs": [
    {
     "name": "stdout",
     "output_type": "stream",
     "text": [
      "TRAIN: [    0     1     2 ... 29754 29755 29756] TEST: [    5     6    11 ... 29753 29757 29758]\n"
     ]
    }
   ],
   "source": [
    "for train_index, test_index in mskf.split(X, y):\n",
    "    print(\"TRAIN:\", train_index, \"TEST:\", test_index)\n",
    "    X_train, X_test = X[train_index], X[test_index]\n",
    "    y_train, y_test = y[train_index], y[test_index]\n",
    "    break"
   ]
  },
  {
   "cell_type": "code",
   "execution_count": 8,
   "metadata": {},
   "outputs": [
    {
     "name": "stdout",
     "output_type": "stream",
     "text": [
      "23807 5952\n",
      "23807 5952\n"
     ]
    }
   ],
   "source": [
    "print(len(X_train), len(X_test))\n",
    "print(len(y_train), len(y_test))"
   ]
  },
  {
   "cell_type": "code",
   "execution_count": 9,
   "metadata": {},
   "outputs": [],
   "source": [
    "# root['images'] = []"
   ]
  },
  {
   "cell_type": "code",
   "execution_count": 10,
   "metadata": {},
   "outputs": [],
   "source": [
    "train = []\n",
    "for idx, image_id in enumerate(X_train):\n",
    "    img_anno = coco_obj.loadImgs(int(image_id))\n",
    "    img_anno[0]['id'] = idx\n",
    "    train.append(img_anno[0])\n",
    "    \n",
    "test = []\n",
    "for idx, image_id in enumerate(X_test):\n",
    "    img_anno = coco_obj.loadImgs(int(image_id))\n",
    "    img_anno[0]['id'] = idx\n",
    "    test.append(img_anno[0])"
   ]
  },
  {
   "cell_type": "code",
   "execution_count": 11,
   "metadata": {},
   "outputs": [],
   "source": [
    "train_json = root.copy()\n",
    "test_json = root.copy()\n",
    "\n",
    "train_json['images'] = []\n",
    "train_json['images'] = train\n",
    "test_json['images'] = []\n",
    "test_json['images'] = test"
   ]
  },
  {
   "cell_type": "code",
   "execution_count": 12,
   "metadata": {},
   "outputs": [],
   "source": [
    "with open(\"train.json\", \"w\") as f:\n",
    "    json.dump(train_json, f)\n",
    "    \n",
    "with open(\"test.json\", \"w\") as f:\n",
    "    json.dump(test_json, f)"
   ]
  },
  {
   "cell_type": "code",
   "execution_count": 13,
   "metadata": {},
   "outputs": [],
   "source": [
    "# import plotly.express as px\n",
    "\n",
    "# fig = px.parallel_categories()"
   ]
  }
 ],
 "metadata": {
  "interpreter": {
   "hash": "e31c68abf1d5dd3f9e2269f23eadf1b199587e56c0618a30760176a65ebfcab4"
  },
  "kernelspec": {
   "display_name": "Python 3 (ipykernel)",
   "language": "python",
   "name": "python3"
  },
  "language_info": {
   "codemirror_mode": {
    "name": "ipython",
    "version": 3
   },
   "file_extension": ".py",
   "mimetype": "text/x-python",
   "name": "python",
   "nbconvert_exporter": "python",
   "pygments_lexer": "ipython3",
   "version": "3.7.11"
  }
 },
 "nbformat": 4,
 "nbformat_minor": 4
}
